{
  "cells": [
    {
      "cell_type": "code",
      "execution_count": null,
      "metadata": {
        "id": "6owQZb4OoxaK"
      },
      "outputs": [],
      "source": [
        "# import the necessary packages\n",
        "import numpy as np\n",
        "import IPython.display as disp\n",
        "\n",
        "!pip install -U geemap\n",
        "import geemap\n",
        "!pip install earthengine-api\n",
        "\n",
        "import matplotlib.pyplot as plt\n"
      ]
    },
    {
      "cell_type": "code",
      "execution_count": null,
      "metadata": {
        "id": "N0-VzKTYo6Zi"
      },
      "outputs": [],
      "source": [
        "# authentication to gee\n",
        "import ee\n",
        "\n",
        "ee.Authenticate()\n",
        "ee.Initialize(project=\"ee-bbensi\")"
      ]
    },
    {
      "cell_type": "code",
      "execution_count": null,
      "metadata": {
        "id": "LoNjb4Dou4gX"
      },
      "outputs": [],
      "source": [
        "# east Emilia-Romagna\n",
        "geometry = ee.Geometry.Point([12.180427, 44.696379])\n",
        "roi = geometry.buffer(45000)"
      ]
    },
    {
      "cell_type": "code",
      "source": [
        "# flood zone\n",
        "geometry = ee.Geometry.Point([11.880427, 44.496379])\n",
        "roi = geometry.buffer(20000)"
      ],
      "metadata": {
        "id": "ikTuN_KNbUdW"
      },
      "execution_count": null,
      "outputs": []
    },
    {
      "cell_type": "code",
      "source": [
        "# Load Sentinel-2 image collection and filter by date and cloud cover.\n",
        "\n",
        "# post-flood\n",
        "input_post = ee.ImageCollection('COPERNICUS/S2_SR_HARMONIZED') \\\n",
        "                .filterBounds(roi) \\\n",
        "                .filterDate('2023-05-15', '2023-05-26') \\\n",
        "                .filter(ee.Filter.lt('CLOUDY_PIXEL_PERCENTAGE', 10)) \\\n",
        "                .median()  # Create a median composite\n",
        "\n",
        "# pre-flood\n",
        "input_pre = ee.ImageCollection('COPERNICUS/S2_SR_HARMONIZED') \\\n",
        "                .filterBounds(roi) \\\n",
        "                .filterDate('2023-02-01', '2023-04-30') \\\n",
        "                .filter(ee.Filter.lt('CLOUDY_PIXEL_PERCENTAGE', 10)) \\\n",
        "                .median()  # Create a median composite\n"
      ],
      "metadata": {
        "id": "Uw67eSWevblZ"
      },
      "execution_count": null,
      "outputs": []
    },
    {
      "cell_type": "markdown",
      "source": [
        "input pre-flood in RGB"
      ],
      "metadata": {
        "id": "VEZZyZmnwtPg"
      }
    },
    {
      "cell_type": "code",
      "execution_count": null,
      "metadata": {
        "id": "mXp-6zaqrIPP"
      },
      "outputs": [],
      "source": [
        "# visualization pre-flood in RGB\n",
        "Map = geemap.Map()\n",
        "vis_param = {'min': 0,\n",
        "             'max': 3000,\n",
        "             'bands': ['B4', 'B3', 'B2'],\n",
        "             'gamma': 1.5}\n",
        "\n",
        "Map.addLayer(input_pre.clip(roi), vis_param, \"overview pre-flood in RGB\")\n",
        "Map.centerObject(roi, 10)\n",
        "\n",
        "Map"
      ]
    },
    {
      "cell_type": "markdown",
      "source": [
        "input pre-flood using B11, B8, B3"
      ],
      "metadata": {
        "id": "heV6mbvswx5W"
      }
    },
    {
      "cell_type": "code",
      "source": [
        "# visualization pre-flood B11 B8 B3\n",
        "Map = geemap.Map()\n",
        "vis_param = {'min': 0,\n",
        "             'max': 3000,\n",
        "             'bands': ['B11', 'B8', 'B3'],\n",
        "             'gamma': 1.5}\n",
        "\n",
        "Map.addLayer(input_pre.clip(roi), vis_param, \"overview pre-flood B11 B8 B3\")\n",
        "Map.centerObject(roi, 10)\n",
        "\n",
        "Map"
      ],
      "metadata": {
        "id": "In2t_SortaRF"
      },
      "execution_count": null,
      "outputs": []
    },
    {
      "cell_type": "markdown",
      "source": [
        "input post-flood in RGB"
      ],
      "metadata": {
        "id": "CJW1JTmzw5-0"
      }
    },
    {
      "cell_type": "code",
      "source": [
        "# visualization post-flood in RGB\n",
        "Map = geemap.Map()\n",
        "vis_param = {'min': 0,\n",
        "             'max': 3000,\n",
        "             'bands': ['B4', 'B3', 'B2'],\n",
        "             'gamma': 1.5}\n",
        "\n",
        "Map.addLayer(input_post.clip(roi), vis_param, \"overview post-flood in RGB\")\n",
        "Map.centerObject(roi, 10)\n",
        "\n",
        "Map"
      ],
      "metadata": {
        "id": "R9nyoTjVOr0O"
      },
      "execution_count": null,
      "outputs": []
    },
    {
      "cell_type": "markdown",
      "source": [
        "input post-flood using B11, B8, B3"
      ],
      "metadata": {
        "id": "pyy7gW8OxBM3"
      }
    },
    {
      "cell_type": "code",
      "source": [
        "# visualization post-flood B11 B8 B3\n",
        "Map = geemap.Map()\n",
        "vis_param = {'min': 0,\n",
        "             'max': 3000,\n",
        "             'bands': ['B11', 'B8', 'B3'],\n",
        "             'gamma': 1.5}\n",
        "\n",
        "Map.addLayer(input_post.clip(roi), vis_param, \"overview post-flood B11 B8 B3\")\n",
        "Map.centerObject(roi, 10)\n",
        "\n",
        "Map"
      ],
      "metadata": {
        "id": "VNZDPN5NtklF"
      },
      "execution_count": null,
      "outputs": []
    },
    {
      "cell_type": "markdown",
      "source": [
        "# NDWI"
      ],
      "metadata": {
        "id": "4oa16DQyyE0O"
      }
    },
    {
      "cell_type": "markdown",
      "source": [
        "NDWI pre-flood"
      ],
      "metadata": {
        "id": "Vk_4B003zJUz"
      }
    },
    {
      "cell_type": "code",
      "source": [
        "# Select the bands (B3, B8).\n",
        "input2 = input_pre.select(['B3', 'B8'])\n",
        "\n",
        "# Compute NDWI\n",
        "ndwi_pre = input2.normalizedDifference(['B3', 'B8']).rename('NDWI_pre')\n",
        "\n",
        "# Display the NDWI band (NDWI ranges from -1 to 1)\n",
        "ndwiVis = {\n",
        "  'min': -1.0,\n",
        "  'max': 1.0,\n",
        "  'palette': ['green', 'white', 'blue']\n",
        "}\n",
        "\n",
        "# Add NDWI to the map\n",
        "m = geemap.Map()\n",
        "m.addLayer(ndwi_pre.clip(roi), ndwiVis, 'NDWI_pre')\n",
        "m.centerObject(roi, 10)\n",
        "m"
      ],
      "metadata": {
        "id": "YgqYn3zLybVy"
      },
      "execution_count": null,
      "outputs": []
    },
    {
      "cell_type": "markdown",
      "source": [
        "NDWI post-flood"
      ],
      "metadata": {
        "id": "YJ5clFU6zLwD"
      }
    },
    {
      "cell_type": "code",
      "source": [
        "# Select the bands (B3, B8).\n",
        "input2 = input_post.select(['B3', 'B8'])\n",
        "\n",
        "# Compute NDWI\n",
        "ndwi_post = input2.normalizedDifference(['B3', 'B8']).rename('NDWI_post')\n",
        "\n",
        "# Display the NDWI band\n",
        "ndwiVis = {\n",
        "  'min': -1.0,\n",
        "  'max': 1.0,\n",
        "  'palette': ['green', 'white', 'blue']\n",
        "}\n",
        "\n",
        "# Add NDWI to the map\n",
        "m = geemap.Map()\n",
        "m.addLayer(ndwi_post.clip(roi), ndwiVis, 'NDWI_post')\n",
        "m.centerObject(roi, 10)\n",
        "m"
      ],
      "metadata": {
        "id": "EBGbyS-uyInt"
      },
      "execution_count": null,
      "outputs": []
    },
    {
      "cell_type": "markdown",
      "source": [
        "# Change detection analysis"
      ],
      "metadata": {
        "id": "K_nKA1aEzewz"
      }
    },
    {
      "cell_type": "markdown",
      "source": [
        "histogram pre-flood of NDWI"
      ],
      "metadata": {
        "id": "2cqjNyvtzPrB"
      }
    },
    {
      "cell_type": "code",
      "source": [
        "# histogram pre-flood\n",
        "# Define the region to get the histogram data\n",
        "hist_region = roi\n",
        "\n",
        "# ee.Reducer.fixedHistogram  to get the histogram\n",
        "histogram = ndwi_pre.reduceRegion(\n",
        "    reducer=ee.Reducer.fixedHistogram(-1, 1, 50),  # Set range and number of bins\n",
        "    geometry=hist_region,\n",
        "    scale=10,\n",
        "    bestEffort=True\n",
        ")\n",
        "\n",
        "# Get the histogram data\n",
        "hist_data = ee.List(histogram.get('NDWI_pre')).getInfo()\n",
        "\n",
        "# Extract bins and counts\n",
        "bins = [d[0] for d in hist_data]\n",
        "counts = [d[1] for d in hist_data]\n",
        "\n",
        "# Plot the histogram\n",
        "plt.figure(figsize=(10, 6))\n",
        "plt.bar(bins, counts, width=(bins[1]-bins[0]), align='center', edgecolor='k')\n",
        "plt.xlabel('NDWI pre-flood')\n",
        "plt.ylabel('Count')\n",
        "plt.title('Histogram of NDWI pre-flood')\n",
        "plt.show()"
      ],
      "metadata": {
        "id": "8Zfq8XuFyoW2"
      },
      "execution_count": null,
      "outputs": []
    },
    {
      "cell_type": "markdown",
      "source": [
        "histogram post-flood of NDWI"
      ],
      "metadata": {
        "id": "zkqn2HTizS3x"
      }
    },
    {
      "cell_type": "code",
      "source": [
        "# histogram post-flood\n",
        "# Define the region to get the histogram data\n",
        "hist_region = roi\n",
        "\n",
        "# ee.Reducer.fixedHistogram to get the histogram\n",
        "histogram = ndwi_post.reduceRegion(\n",
        "    reducer=ee.Reducer.fixedHistogram(-1, 1, 50),  # Set range and number of bins\n",
        "    geometry=hist_region,\n",
        "    scale=10,\n",
        "    bestEffort=True\n",
        ")\n",
        "\n",
        "# Get the histogram data\n",
        "hist_data = ee.List(histogram.get('NDWI_post')).getInfo()\n",
        "\n",
        "# Extract bins and counts\n",
        "bins = [d[0] for d in hist_data]\n",
        "counts = [d[1] for d in hist_data]\n",
        "\n",
        "# Plot the histogram\n",
        "plt.figure(figsize=(10, 6))\n",
        "plt.bar(bins, counts, width=(bins[1]-bins[0]), align='center', edgecolor='k')\n",
        "plt.xlabel('NDWI post-flood')\n",
        "plt.ylabel('Count')\n",
        "plt.title('Histogram of NDWI post-flood')\n",
        "plt.show()"
      ],
      "metadata": {
        "id": "e-7V0A--ypdT"
      },
      "execution_count": null,
      "outputs": []
    },
    {
      "cell_type": "markdown",
      "source": [
        "ratio of NDWi"
      ],
      "metadata": {
        "id": "cPuUzg7VzWzT"
      }
    },
    {
      "cell_type": "code",
      "source": [
        "#ee.Image.divide to get the ratio\n",
        "ratio = ndwi_post.divide(ndwi_pre).rename('Ratio')\n",
        "m = geemap.Map()\n",
        "m.addLayer(ratio.clip(roi))\n",
        "m.centerObject(roi, 10)\n",
        "m"
      ],
      "metadata": {
        "id": "KQYQq_5Yy0Uv"
      },
      "execution_count": null,
      "outputs": []
    },
    {
      "cell_type": "code",
      "source": [
        "# Compute the histogram of the ratio\n",
        "histogram = ratio.reduceRegion(\n",
        "    reducer=ee.Reducer.fixedHistogram(-10, 10, 100),\n",
        "    geometry=roi,\n",
        "    scale=10,\n",
        "    bestEffort=True\n",
        ")\n",
        "\n",
        "# Get the histogram data\n",
        "hist_dict = histogram.get('Ratio').getInfo()\n",
        "\n",
        "# Extract bins and counts\n",
        "bins = [d[0] for d in hist_dict]\n",
        "counts = [d[1] for d in hist_dict]\n",
        "\n",
        "# Plot the histogram\n",
        "plt.figure(figsize=(10, 6))\n",
        "plt.bar(bins, counts, width=(bins[1]-bins[0]), align='center', edgecolor='k')\n",
        "plt.xlabel('Ratio')\n",
        "plt.ylabel('Frequency')\n",
        "plt.title('Histogram of Ratio')\n",
        "plt.show()"
      ],
      "metadata": {
        "id": "OIXDxJLIWwv1"
      },
      "execution_count": null,
      "outputs": []
    },
    {
      "cell_type": "code",
      "source": [
        "# Calculate mean and standard deviation of the ratio\n",
        "mean = ratio.reduceRegion(\n",
        "  reducer= ee.Reducer.mean(),\n",
        "  geometry= roi,\n",
        "  scale= 10,\n",
        "  bestEffort= True\n",
        ")\n",
        "\n",
        "std_dev = ratio.reduceRegion(\n",
        "  reducer= ee.Reducer.stdDev(),\n",
        "  geometry= roi,\n",
        "  scale= 10,\n",
        "  bestEffort= True\n",
        ")\n",
        "\n",
        "# Get the mean and standard deviation values\n",
        "mean = mean.get('Ratio').getInfo()\n",
        "std_dev = std_dev.get('Ratio').getInfo()\n",
        "\n",
        "print(f'Mean: {mean:.4f}')\n",
        "print(f'Standard Deviation: {std_dev:.4f}')"
      ],
      "metadata": {
        "id": "DtriTf8iaNAy"
      },
      "execution_count": null,
      "outputs": []
    },
    {
      "cell_type": "code",
      "source": [
        "# compute the minimum and maximum ratio values\n",
        "min = ratio.reduceRegion(\n",
        "  reducer= ee.Reducer.min(),\n",
        "  geometry= roi,\n",
        "  scale= 10,\n",
        "  bestEffort= True\n",
        ")\n",
        "\n",
        "max = ratio.reduceRegion(\n",
        "  reducer= ee.Reducer.max(),\n",
        "  geometry= roi,\n",
        "  scale= 10,\n",
        "  bestEffort= True\n",
        ")\n",
        "\n",
        "# Get the min and max values\n",
        "min_value = min.get('Ratio').getInfo()\n",
        "max_value = max.get('Ratio').getInfo()\n",
        "\n",
        "print(f'Min: {min_value:.4f}')\n",
        "print(f'Max: {max_value:.4f}')"
      ],
      "metadata": {
        "id": "13Am516dbOUI"
      },
      "execution_count": null,
      "outputs": []
    },
    {
      "cell_type": "code",
      "source": [
        "# Concatenate the images to work with both NDWI bands\n",
        "combined_ndwi = ee.Image.cat(ndwi_pre.rename('NDWI_pre'), ndwi_post.rename('NDWI_post'))\n",
        "\n",
        "# Define conditions for each category\n",
        "category_image = combined_ndwi.expression(\n",
        "  \"\"\"\n",
        "  (b('NDWI_post') > 0) && (b('NDWI_pre') > 0) && (b('NDWI_post') > b('NDWI_pre')) ? 1 :\n",
        "  (b('NDWI_post') > 0) && (b('NDWI_pre') > 0) && (b('NDWI_post') < b('NDWI_pre')) ? 2 :\n",
        "  (b('NDWI_post') > 0) && (b('NDWI_pre') < 0) ? 3 :\n",
        "  (b('NDWI_post') < 0) && (b('NDWI_pre') > 0) ? 4 :\n",
        "  (b('NDWI_post') < 0) && (b('NDWI_pre') < 0) && (b('NDWI_post') < b('NDWI_pre')) ? 5 :\n",
        "  (b('NDWI_post') < 0) && (b('NDWI_pre') < 0) && (b('NDWI_post') > b('NDWI_pre')) ? 6 :\n",
        "  0\n",
        "  \"\"\",\n",
        "  {\n",
        "    'NDWI_pre': combined_ndwi.select('NDWI_pre'),\n",
        "    'NDWI_post': combined_ndwi.select('NDWI_post')\n",
        "  }).rename('Change_Category')\n"
      ],
      "metadata": {
        "id": "SESRcuOzC8tg"
      },
      "execution_count": null,
      "outputs": []
    },
    {
      "cell_type": "code",
      "source": [
        "# Visualization palette for the categories\n",
        "palette = ['blue', 'green', 'cyan', 'magenta', 'red', 'yellow', 'black']\n",
        "\n",
        "# Create a map and add the categorized image layer\n",
        "m = geemap.Map()\n",
        "m.addLayer(category_image.clip(roi), {'min': 1, 'max': 7, 'palette': palette}, 'Change Categories')\n",
        "m.centerObject(roi, 10)\n",
        "m\n"
      ],
      "metadata": {
        "id": "D2ccFysoC-N5"
      },
      "execution_count": null,
      "outputs": []
    },
    {
      "cell_type": "code",
      "source": [
        "# Function to compute the area in square meters for each category\n",
        "def compute_area_for_category(category_id, category_image):\n",
        "    mask = category_image.eq(category_id)\n",
        "    category_area = ee.Image.pixelArea().updateMask(mask).reduceRegion(\n",
        "        reducer=ee.Reducer.sum(),\n",
        "        geometry=roi,\n",
        "        scale=10,\n",
        "        maxPixels=1e9\n",
        "    ).get('area')\n",
        "    return ee.Number(category_area).getInfo()\n",
        "\n",
        "# Compute total area for each category\n",
        "total_area_category_1 = compute_area_for_category(1, category_image)\n",
        "total_area_category_2 = compute_area_for_category(2, category_image)\n",
        "total_area_category_3 = compute_area_for_category(3, category_image)\n",
        "total_area_category_4 = compute_area_for_category(4, category_image)\n",
        "total_area_category_5 = compute_area_for_category(5, category_image)\n",
        "total_area_category_6 = compute_area_for_category(6, category_image)\n",
        "total_area_category_0 = compute_area_for_category(0, category_image)\n"
      ],
      "metadata": {
        "id": "wfXOmcpUNj7u"
      },
      "execution_count": null,
      "outputs": []
    },
    {
      "cell_type": "code",
      "source": [
        "# Print the area for each category in square meters\n",
        "print(f'Total area for Category 1: {total_area_category_1} square meters')\n",
        "print(f'Total area for Category 2: {total_area_category_2} square meters')\n",
        "print(f'Total area for Category 3: {total_area_category_3} square meters')\n",
        "print(f'Total area for Category 4: {total_area_category_4} square meters')\n",
        "print(f'Total area for Category 5: {total_area_category_5} square meters')\n",
        "print(f'Total area for Category 6: {total_area_category_6} square meters')\n",
        "print(f'Total area for Category 0: {total_area_category_0} square meters')\n",
        "\n"
      ],
      "metadata": {
        "id": "VPJD3c43N8Jd"
      },
      "execution_count": null,
      "outputs": []
    },
    {
      "cell_type": "code",
      "source": [
        "# Print the area for each category in square kilometers\n",
        "print(f'Total area for Category 1: {total_area_category_1 / 1e6} square kilometers')\n",
        "print(f'Total area for Category 2: {total_area_category_2 / 1e6} square kilometers')\n",
        "print(f'Total area for Category 3: {total_area_category_3 / 1e6} square kilometers')\n",
        "print(f'Total area for Category 4: {total_area_category_4 / 1e6} square kilometers')\n",
        "print(f'Total area for Category 5: {total_area_category_5 / 1e6} square kilometers')\n",
        "print(f'Total area for Category 6: {total_area_category_6 / 1e6} square kilometers')\n",
        "print(f'Total area for Category 0: {total_area_category_0 / 1e6} square kilometers')"
      ],
      "metadata": {
        "id": "57lUSsQJOGtl"
      },
      "execution_count": null,
      "outputs": []
    },
    {
      "cell_type": "markdown",
      "source": [
        "difference of NDWI index"
      ],
      "metadata": {
        "id": "il-3Zcp4zY2Q"
      }
    },
    {
      "cell_type": "code",
      "source": [
        "# Image.subtract(image2) to get the difference\n",
        "difference = ndwi_pre.subtract(ndwi_post).rename('Difference')\n",
        "m = geemap.Map()\n",
        "m.addLayer(difference.clip(roi))\n",
        "m.centerObject(roi, 10)\n",
        "m"
      ],
      "metadata": {
        "id": "Adp80gSSy1L4"
      },
      "execution_count": null,
      "outputs": []
    },
    {
      "cell_type": "markdown",
      "source": [
        "change vector analysis"
      ],
      "metadata": {
        "id": "Q7Q-Akbfzb4d"
      }
    },
    {
      "cell_type": "code",
      "source": [
        "# Choose bands that are sensitive to the changes due to the flood\n",
        "bands = ['B8', 'B11']\n",
        "\n",
        "# Calculate change vectors\n",
        "change_vectors = input_post.select(bands).subtract(input_pre.select(bands))\n",
        "\n",
        "# Calculate magnitude of change\n",
        "magnitude = change_vectors.pow(2).reduce(ee.Reducer.sum()).sqrt().clip(roi)\n",
        "\n",
        "# Calculate direction of change\n",
        "direction = change_vectors.select('B8').atan2(change_vectors.select('B11')).clip(roi)\n",
        "\n",
        "\n",
        "# Visualize results\n",
        "magnitude_vis = {\n",
        "    'min': 0,\n",
        "    'max': 3000,  # based on histogram result\n",
        "    'palette': ['blue', 'green', 'yellow']\n",
        "}\n",
        "\n",
        "direction_vis = {\n",
        "    'min': -1.57,  # -90 degrees in radians\n",
        "    'max': 1.57,  # 90 degrees in radians\n",
        "    'palette': ['orange', 'white', 'purple']\n",
        "}\n",
        "\n",
        "# Add layers to the map\n",
        "map = geemap.Map()\n",
        "map.addLayer(magnitude, magnitude_vis ,'Magnitude of Change')\n",
        "map.addLayer(direction, direction_vis ,'Direction of Change')\n",
        "map.centerObject(roi, 10)\n",
        "map"
      ],
      "metadata": {
        "id": "J12gbp7QzqDo"
      },
      "execution_count": null,
      "outputs": []
    },
    {
      "cell_type": "code",
      "source": [
        "# Compute the histogram of the magnitude\n",
        "histogram = magnitude.reduceRegion(\n",
        "    reducer=ee.Reducer.histogram(),\n",
        "    geometry=roi,\n",
        "    scale=20,\n",
        "    bestEffort=True\n",
        ")\n",
        "\n",
        "# Get the histogram data\n",
        "hist_dict = histogram.get('sum').getInfo()\n",
        "\n",
        "# Extract the bucketMeans (x-axis values) and histogram (y-axis values)\n",
        "bucketMeans = hist_dict['bucketMeans']\n",
        "histogram_counts = hist_dict['histogram']\n",
        "\n",
        "# Plot the histogram\n",
        "plt.figure(figsize=(10, 6))\n",
        "plt.bar(bucketMeans, histogram_counts, width=hist_dict['bucketWidth'],  align='center', edgecolor='k')\n",
        "plt.xlabel('Magnitude of Change')\n",
        "plt.ylabel('Frequency')\n",
        "plt.title('Histogram of Magnitude')\n",
        "plt.show()\n",
        "plt.savefig('histogram.png')"
      ],
      "metadata": {
        "id": "cAgmXP9wR5ph"
      },
      "execution_count": null,
      "outputs": []
    },
    {
      "cell_type": "markdown",
      "metadata": {
        "id": "NagI9HrHDf3y"
      },
      "source": [
        "# Unsupervised"
      ]
    },
    {
      "cell_type": "markdown",
      "source": [
        "unsupervised learning on the NDWI difference"
      ],
      "metadata": {
        "id": "YPvS6KvRAfg-"
      }
    },
    {
      "cell_type": "markdown",
      "source": [
        "LVQ"
      ],
      "metadata": {
        "id": "ygDKUSl296E9"
      }
    },
    {
      "cell_type": "code",
      "source": [
        "m = geemap.Map()\n",
        "m.addLayer(ee.Image().paint(roi, 0, 2), {}, 'region')\n",
        "\n",
        "# Make the training dataset\n",
        "diff_clipped = difference.clip(roi)\n",
        "training = diff_clipped.sample(region=roi, scale=10, numPixels=8000)\n",
        "\n",
        "# Instantiate the clusterer and train it\n",
        "clusterer = ee.Clusterer.wekaLVQ(2).train(training)\n",
        "\n",
        "# Cluster the input using the trained clusterer\n",
        "result_LVQ = diff_clipped.cluster(clusterer)\n",
        "\n",
        "# Define a palette\n",
        "palette = ['black', 'purple']\n",
        "# Visualize clusters using the defined palette\n",
        "m.add_basemap('HYBRID')\n",
        "m.addLayer(result_LVQ, {'min': 0, 'max': len(palette) - 1, 'palette': palette, 'opacity': 0.5}, 'clusters')\n",
        "\n",
        "\n",
        "m.centerObject(roi, 10)\n",
        "\n",
        "# Display the map.\n",
        "m\n"
      ],
      "metadata": {
        "id": "tmzO8pFuAfH6"
      },
      "execution_count": null,
      "outputs": []
    },
    {
      "cell_type": "markdown",
      "source": [
        "KMEANS"
      ],
      "metadata": {
        "id": "KE2pesxX935x"
      }
    },
    {
      "cell_type": "code",
      "source": [
        "m = geemap.Map()\n",
        "m.addLayer(ee.Image().paint(roi, 0, 2), {}, 'region')\n",
        "\n",
        "# Make the training dataset\n",
        "diff_clipped_K = difference.clip(roi)\n",
        "training = diff_clipped_K.sample(region=roi, scale=10, numPixels=8000)\n",
        "\n",
        "# Instantiate the clusterer and train it\n",
        "clusterer = ee.Clusterer.wekaKMeans(nClusters = 2, init = 1).train(training) # init = 1 stands for k-means++ cluster centers initialization\n",
        "\n",
        "# Cluster the input using the trained clusterer\n",
        "result_KMEANS = diff_clipped_K.cluster(clusterer)\n",
        "\n",
        "# Define a palette\n",
        "palette = ['black', 'blue']\n",
        "# Visualize clusters using the defined palette\n",
        "m.add_basemap('HYBRID')\n",
        "m.addLayer(result_KMEANS, {'min': 0, 'max': len(palette) - 1, 'palette': palette, 'opacity': 0.5}, 'clusters')\n",
        "\n",
        "\n",
        "m.centerObject(roi, 10)\n",
        "\n",
        "# Display the map.\n",
        "m"
      ],
      "metadata": {
        "id": "vX9Fzcwe92sK"
      },
      "execution_count": null,
      "outputs": []
    },
    {
      "cell_type": "markdown",
      "source": [
        "difference between KMEANS and LVQ results"
      ],
      "metadata": {
        "id": "i1x641L0AVNv"
      }
    },
    {
      "cell_type": "code",
      "source": [
        "# Create a difference image between Kmeans and LVQ results\n",
        "difference_image = result_KMEANS.subtract(result_LVQ)\n",
        "\n",
        "# Define a palette\n",
        "palette_diff = ['red', 'black', 'red']\n",
        "\n",
        "# Add the difference image to the map\n",
        "m = geemap.Map()\n",
        "m.add_basemap('HYBRID')\n",
        "m.add_layer(difference_image, {'min': -1, 'max': 1, 'palette': palette_diff, 'opacity': 0.5}, 'Difference (KMeans - LVQ)')\n",
        "\n",
        "m.centerObject(roi, 10)\n",
        "m"
      ],
      "metadata": {
        "id": "14GezYXcAX0H"
      },
      "execution_count": null,
      "outputs": []
    },
    {
      "cell_type": "markdown",
      "source": [
        "compute the area of the flooded cluster"
      ],
      "metadata": {
        "id": "3Uy7D4zs08Z4"
      }
    },
    {
      "cell_type": "markdown",
      "source": [
        " LVQ"
      ],
      "metadata": {
        "id": "IuNXmAHK3tT0"
      }
    },
    {
      "cell_type": "code",
      "source": [
        "# Define the cluster number representing the flooded area\n",
        "flooded_cluster = 1\n",
        "\n",
        "# Create a binary mask of the flooded areas\n",
        "flooded_mask = result_LVQ.eq(flooded_cluster)\n",
        "\n",
        "# Calculate the pixel area in square meters\n",
        "pixel_area = ee.Image.pixelArea()\n",
        "\n",
        "# Calculate the area of flooded regions by multiplying the binary mask by the pixel area\n",
        "flooded_area = flooded_mask.multiply(pixel_area)\n",
        "\n",
        "# Sum the flooded areas within the region of interest\n",
        "flooded_area_stats = flooded_area.reduceRegion(\n",
        "    reducer=ee.Reducer.sum(),\n",
        "    geometry=roi,\n",
        "    scale=10,\n",
        "    maxPixels=1e9\n",
        ")\n",
        "\n",
        "\n",
        "# Print the keys\n",
        "print(flooded_area_stats.keys().getInfo())\n",
        "\n",
        "# Extract the value from the output dictionary\n",
        "flooded_area_m2 = flooded_area_stats.get('cluster').getInfo()\n",
        "print(f'Flooded area (in square meters): {flooded_area_m2}')\n",
        "\n",
        "# Convert flooded area from square meters to square kilometers\n",
        "flooded_area_km2 = flooded_area_m2 / 1e6\n",
        "print(f\"Flooded area: {flooded_area_km2:.2f} square kilometers\")\n"
      ],
      "metadata": {
        "id": "vycI5gCNxgXl"
      },
      "execution_count": null,
      "outputs": []
    },
    {
      "cell_type": "markdown",
      "source": [
        "per KMEANS"
      ],
      "metadata": {
        "id": "xqHZV_VC3wr4"
      }
    },
    {
      "cell_type": "code",
      "source": [
        "# Define the cluster number representing the flooded area\n",
        "flooded_cluster = 1\n",
        "\n",
        "# Create a binary mask of the flooded areas\n",
        "flooded_mask = result_KMEANS.eq(flooded_cluster)\n",
        "\n",
        "# Calculate the pixel area in square meters\n",
        "pixel_area = ee.Image.pixelArea()\n",
        "\n",
        "# Calculate the area of flooded regions by multiplying the binary mask by the pixel area\n",
        "flooded_area = flooded_mask.multiply(pixel_area)\n",
        "\n",
        "# Sum the flooded areas within the region of interest\n",
        "flooded_area_stats = flooded_area.reduceRegion(\n",
        "    reducer=ee.Reducer.sum(),\n",
        "    geometry=roi,\n",
        "    scale=10,\n",
        "    maxPixels=1e9\n",
        ")\n",
        "\n",
        "# Print the keys\n",
        "print(flooded_area_stats.keys().getInfo())\n",
        "\n",
        "# Extract the value from the output dictionary\n",
        "flooded_area_m2 = flooded_area_stats.get('cluster').getInfo()\n",
        "print(f'Flooded area (in square meters): {flooded_area_m2}')\n",
        "\n",
        "# Convert flooded area from square meters to square kilometers\n",
        "flooded_area_km2 = flooded_area_m2 / 1e6\n",
        "print(f\"Flooded area: {flooded_area_km2:.2f} square kilometers\")\n",
        "\n"
      ],
      "metadata": {
        "id": "zT7bZTm93x2-"
      },
      "execution_count": null,
      "outputs": []
    }
  ],
  "metadata": {
    "colab": {
      "provenance": []
    },
    "kernelspec": {
      "display_name": "Python 3",
      "name": "python3"
    },
    "language_info": {
      "name": "python"
    }
  },
  "nbformat": 4,
  "nbformat_minor": 0
}